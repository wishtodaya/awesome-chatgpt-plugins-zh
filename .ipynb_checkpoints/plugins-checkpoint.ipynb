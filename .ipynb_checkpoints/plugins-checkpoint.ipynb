{
 "cells": [
  {
   "cell_type": "code",
   "execution_count": 5,
   "id": "2f4264a9",
   "metadata": {},
   "outputs": [],
   "source": [
    "import mysql.connector\n",
    "\n",
    "# 连接 MySQL 数据库\n",
    "cnx = mysql.connector.connect(user='', password='', host='localhost', database='plugins', charset='utf8')\n",
    "cursor = cnx.cursor()\n",
    "\n",
    "# 执行 SQL 查询\n",
    "query = \"\"\"\n",
    "    SELECT logo_url, name_for_human, description_for_human_cn, contact_email\n",
    "    FROM plugin_manifests\n",
    "    ORDER BY name_for_human ASC\n",
    "\"\"\"\n",
    "cursor.execute(query)\n",
    "\n",
    "# 获取所有记录列表\n",
    "results = cursor.fetchall()\n",
    "\n",
    "# 创建或打开一个 Markdown 文件\n",
    "with open('README.md', 'w', encoding='utf8') as f:\n",
    "    # 写入表头\n",
    "    f.write(\"# awesome-chatgpt-plugins-zh \\n\\n\")\n",
    "    f.write(\"这是一个ChatGPT 插件中文仓库，每个插件都附有详细的描述，包括功能、使用方法和开发者联系方式。\\n\\n\")\n",
    "    f.write(\"| 序号 | 图标 | 插件名称 | 插件描述 | 开发者邮箱 |\\n\")\n",
    "    f.write(\"| --- | --- | --- | --- | --- |\\n\")\n",
    "    \n",
    "    # 遍历查询结果，写入 Markdown 文件\n",
    "    for i, row in enumerate(results, start=1):\n",
    "        f.write(f\"| {i} | <img src='{row[0]}' alt='{row[1]}' width='50'/> | {row[1]} | {row[2]} | {row[3]} |\\n\")\n",
    "\n",
    "    f.write(\"\\n**请注意：** 这是自动生成的信息，请检查每个插件的详细信息。\\n\")\n",
    "    # 添加公众号图片\n",
    "    f.write(f\"\\n<h2 align='center'>关注我</h2>\\n<p align='center'><img src='https://github.com/wishtodaya/awesome-chatgpt-plugins-zh/blob/main/pic/%E5%85%AC%E4%BC%97%E5%8F%B7.jpg?raw=true' /></p>\")\n",
    "# 关闭游标和连接\n",
    "cursor.close()\n",
    "cnx.close()\n"
   ]
  },
  {
   "cell_type": "code",
   "execution_count": null,
   "id": "cc2c70fa",
   "metadata": {},
   "outputs": [],
   "source": []
  }
 ],
 "metadata": {
  "kernelspec": {
   "display_name": "Python 3 (ipykernel)",
   "language": "python",
   "name": "python3"
  },
  "language_info": {
   "codemirror_mode": {
    "name": "ipython",
    "version": 3
   },
   "file_extension": ".py",
   "mimetype": "text/x-python",
   "name": "python",
   "nbconvert_exporter": "python",
   "pygments_lexer": "ipython3",
   "version": "3.11.2"
  }
 },
 "nbformat": 4,
 "nbformat_minor": 5
}
